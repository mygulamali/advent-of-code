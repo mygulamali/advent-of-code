{
 "cells": [
  {
   "cell_type": "markdown",
   "metadata": {},
   "source": [
    "# [Advent of Code 2019](https://adventofcode.com/2019/) - Day 3"
   ]
  },
  {
   "cell_type": "markdown",
   "metadata": {},
   "source": [
    "## Setup"
   ]
  },
  {
   "cell_type": "code",
   "execution_count": null,
   "metadata": {},
   "outputs": [],
   "source": [
    "def read_input(filename):\n",
    "    with open(filename) as file:\n",
    "        input = file.readlines()\n",
    "    return input"
   ]
  },
  {
   "cell_type": "markdown",
   "metadata": {},
   "source": [
    "### Part 1"
   ]
  },
  {
   "cell_type": "code",
   "execution_count": null,
   "metadata": {},
   "outputs": [],
   "source": [
    "class Coord:\n",
    "    def __init__(self, x, y):\n",
    "        self.x = x\n",
    "        self.y = y\n",
    "    \n",
    "    def __repr__(self):\n",
    "        return f\"({self.x}, {self.y})\"\n",
    "        \n",
    "    def distance(self):\n",
    "        return abs(self.x) + abs(self.y)\n",
    "\n",
    "    \n",
    "class Segment:\n",
    "    def __init__(self, start, end):\n",
    "        self.start = start\n",
    "        self.end = end\n",
    "\n",
    "    def crosses(self, a_segment):\n",
    "        if self.parallel_to(a_segment):\n",
    "            return False\n",
    "        \n",
    "        if self.is_horizontal():\n",
    "            h_segment = self\n",
    "            v_segment = a_segment\n",
    "        else:\n",
    "            h_segment = a_segment\n",
    "            v_segment = self\n",
    "        \n",
    "        return (\n",
    "            (\n",
    "                (v_segment.minimum().y <= h_segment.start.y) and \n",
    "                (h_segment.start.y <= v_segment.maximum().y) \n",
    "            ) and ( \n",
    "                (h_segment.minimum().x <= v_segment.start.x) and \n",
    "                (v_segment.start.x <= h_segment.maximum().x)\n",
    "            )\n",
    "        )\n",
    "\n",
    "    def parallel_to(self, a_segment):\n",
    "        return (\n",
    "            (self.is_horizontal() and a_segment.is_horizontal()) or\n",
    "            (self.is_vertical() and a_segment.is_vertical())\n",
    "        )\n",
    "\n",
    "    def is_horizontal(self):\n",
    "        return self.start.y == self.end.y\n",
    " \n",
    "    def is_vertical(self):\n",
    "        return self.start.x == self.end.x\n",
    "    \n",
    "    def minimum(self):\n",
    "        return Coord(min(self.start.x, self.end.x), min(self.start.y, self.end.y))\n",
    "    \n",
    "    def maximum(self):\n",
    "        return Coord(max(self.start.x, self.end.x), max(self.start.y, self.end.y))\n",
    "    \n",
    "    def crossing_coord(self, a_segment):\n",
    "        if self.is_horizontal():\n",
    "            h_segment = self\n",
    "            v_segment = a_segment\n",
    "        else:\n",
    "            h_segment = a_segment\n",
    "            v_segment = self\n",
    "            \n",
    "        return Coord(v_segment.end.x, h_segment.end.y)\n",
    "        \n",
    "\n",
    "class Wire:\n",
    "    def __init__(self, definition):\n",
    "        self.definition = definition\n",
    "        self.segments = self._segments()\n",
    "    \n",
    "    def _segments(self):\n",
    "        segments = []\n",
    "        \n",
    "        for path in self.definition.split(\",\"):\n",
    "            if len(segments) == 0:\n",
    "                last_coord = Coord(0, 0)\n",
    "            else:\n",
    "                last_coord = segments[-1].end\n",
    "    \n",
    "            next_coord = self._next_coord(last_coord, path)\n",
    "            segments.append(Segment(last_coord, next_coord))\n",
    "\n",
    "        return segments\n",
    "    \n",
    "    def _next_coord(self, last_coord, path):\n",
    "        direction = path[0]\n",
    "        distance = int(path[1:])\n",
    "            \n",
    "        if (direction == \"L\"):\n",
    "            next_coord = Coord(last_coord.x - distance, last_coord.y) \n",
    "        elif (direction == \"R\"):\n",
    "            next_coord = Coord(last_coord.x + distance, last_coord.y) \n",
    "        elif (direction == \"U\"):\n",
    "            next_coord = Coord(last_coord.x, last_coord.y + distance) \n",
    "        elif (direction == \"D\"):\n",
    "            next_coord = Coord(last_coord.x, last_coord.y - distance) \n",
    "        else:\n",
    "            print(f\"Error: Unknown direction encountered, '{direction}'\")\n",
    "            next_coord = None\n",
    "        \n",
    "        return next_coord\n",
    "        \n",
    "    def intersections(self, wire):\n",
    "        intersection_coords = []\n",
    "        \n",
    "        for segment in self.segments:\n",
    "            for a_segment in wire.segments[1:]:\n",
    "                if segment.crosses(a_segment):\n",
    "                    coord = segment.crossing_coord(a_segment)\n",
    "                    intersection_coords.append(coord)\n",
    "        \n",
    "        return intersection_coords\n",
    "    \n",
    "    def steps_to_coord(self, coord):\n",
    "        index = segment_containing_coord(coord)\n",
    "        "
   ]
  },
  {
   "cell_type": "code",
   "execution_count": null,
   "metadata": {},
   "outputs": [],
   "source": [
    "def minimum_intersection_distance(wire_1, wire_2):\n",
    "    minimum_distance = float(\"inf\")\n",
    "    intersection_coords = wire_1.intersections(wire_2)\n",
    "    distances = [coord.distance() for coord in intersection_coords]\n",
    "    minimum_distance = min(minimum_distance, min(distances))\n",
    "\n",
    "    return minimum_distance    "
   ]
  },
  {
   "cell_type": "markdown",
   "metadata": {},
   "source": [
    "#### Test"
   ]
  },
  {
   "cell_type": "code",
   "execution_count": null,
   "metadata": {
    "scrolled": true
   },
   "outputs": [],
   "source": [
    "assert minimum_intersection_distance(\n",
    "    Wire(\"R8,U5,L5,D3\"),\n",
    "    Wire(\"U7,R6,D4,L4\"),\n",
    ") == 6\n",
    "assert minimum_intersection_distance(\n",
    "    Wire(\"R75,D30,R83,U83,L12,D49,R71,U7,L72\"),\n",
    "    Wire(\"U62,R66,U55,R34,D71,R55,D58,R83\"),\n",
    ") == 159\n",
    "assert minimum_intersection_distance(\n",
    "    Wire(\"R98,U47,R26,D63,R33,U87,L62,D20,R33,U53,R51\"),\n",
    "    Wire(\"U98,R91,D20,R16,D67,R40,U7,R15,U6,R7\"),\n",
    ") == 135"
   ]
  },
  {
   "cell_type": "markdown",
   "metadata": {},
   "source": [
    "#### Input"
   ]
  },
  {
   "cell_type": "code",
   "execution_count": null,
   "metadata": {},
   "outputs": [],
   "source": [
    "input_wires = read_input(\"../../data/2019/03.txt\")\n",
    "wire_1 = Wire(input_wires[0])\n",
    "wire_2 = Wire(input_wires[1])\n",
    "\n",
    "print(f\"Minimum intersection distance = {minimum_intersection_distance(wire_1, wire_2)}\")"
   ]
  }
 ],
 "metadata": {
  "kernelspec": {
   "display_name": "Python 3 (ipykernel)",
   "language": "python",
   "name": "python3"
  },
  "language_info": {
   "codemirror_mode": {
    "name": "ipython",
    "version": 3
   },
   "file_extension": ".py",
   "mimetype": "text/x-python",
   "name": "python",
   "nbconvert_exporter": "python",
   "pygments_lexer": "ipython3",
   "version": "3.11.0"
  }
 },
 "nbformat": 4,
 "nbformat_minor": 4
}

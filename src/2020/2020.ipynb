{
 "cells": [
  {
   "cell_type": "markdown",
   "metadata": {},
   "source": [
    "# [Advent of Code 2020](https://adventofcode.com/2020)"
   ]
  },
  {
   "cell_type": "markdown",
   "metadata": {},
   "source": [
    "## Notes\n",
    "\n",
    "### Function naming convention\n",
    "\n",
    "Functions are named with the prefix `f`; followed by the two-digit day of the month; followed by the part of the question the function is associated with (ie. `1` or `2`); followed by some kind of descriptive text. For example, the function name, `f_03_1_example()`, corresponds to an \"example\" function for part 1 of the 3rd day of the competition."
   ]
  },
  {
   "cell_type": "markdown",
   "metadata": {},
   "source": [
    "## Setup"
   ]
  },
  {
   "cell_type": "code",
   "execution_count": null,
   "metadata": {},
   "outputs": [],
   "source": [
    "import itertools\n",
    "import math\n",
    "import pathlib\n",
    "import re\n",
    "from typing import Any, Dict, List, Optional, Set, Tuple\n",
    "\n",
    "URL = 'https://adventofcode.com/2020'\n",
    "\n",
    "DATA_DIR = '../../data/2020'"
   ]
  },
  {
   "cell_type": "code",
   "execution_count": null,
   "metadata": {},
   "outputs": [],
   "source": [
    "def puzzle_data_filename(day: int) -> str:\n",
    "    return f'{DATA_DIR}/{day:02d}.txt'\n",
    "\n",
    "\n",
    "def read_puzzle_data(day: int) -> List[str]:\n",
    "    filename = puzzle_data_filename(day)\n",
    "    \n",
    "    if not pathlib.Path(filename).is_file():\n",
    "        raise IOError(f'Cannot find puzzle data file: \"{filename}\"')\n",
    "    \n",
    "    with open(filename, 'r') as fp:\n",
    "        data = [line.rstrip('\\n') for line in fp]\n",
    "\n",
    "    return data"
   ]
  },
  {
   "cell_type": "markdown",
   "metadata": {},
   "source": [
    "## [Day 1](https://adventofcode.com/2020/day/1)"
   ]
  },
  {
   "cell_type": "code",
   "execution_count": null,
   "metadata": {},
   "outputs": [],
   "source": [
    "data = read_puzzle_data(1)\n",
    "data = [int(x) for x in data]"
   ]
  },
  {
   "cell_type": "code",
   "execution_count": null,
   "metadata": {},
   "outputs": [],
   "source": [
    "def f_01_1_2020_entries(data: List[int]) -> Tuple[int, int]:\n",
    "    n = len(data)\n",
    "    for i in range(n):\n",
    "        diff = 2020 - data[i]\n",
    "        if diff in data:\n",
    "            return i, data.index(diff)\n",
    "        \n",
    "    return (-1, -1)"
   ]
  },
  {
   "cell_type": "code",
   "execution_count": null,
   "metadata": {},
   "outputs": [],
   "source": [
    "i, j = f_01_1_2020_entries(data)\n",
    "\n",
    "print(f'Sum = {data[i] + data[j]}')\n",
    "print(f'Multiple = {data[i] * data[j]}')"
   ]
  },
  {
   "cell_type": "code",
   "execution_count": null,
   "metadata": {},
   "outputs": [],
   "source": [
    "def f_01_2_2020_entries(data: List[int]) -> Tuple[int, int, int]:\n",
    "    n = len(data)\n",
    "    for i in range(n):\n",
    "        diff_i = 2020 - data[i]\n",
    "        for j in range(n - 1):\n",
    "            diff_j = diff_i - data[j]\n",
    "            if diff_j in data:\n",
    "                return (i, j, data.index(diff_j))\n",
    "        \n",
    "    return (-1, -1, -1)"
   ]
  },
  {
   "cell_type": "code",
   "execution_count": null,
   "metadata": {},
   "outputs": [],
   "source": [
    "i, j, k = f_01_2_2020_entries(data)\n",
    "\n",
    "print(f'Sum = {data[i] + data[j] + data[k]}')\n",
    "print(f'Multiple = {data[i] * data[j] * data[k]}')"
   ]
  },
  {
   "cell_type": "markdown",
   "metadata": {},
   "source": [
    "## [Day 2](https://adventofcode.com/2020/day/2)"
   ]
  },
  {
   "cell_type": "code",
   "execution_count": null,
   "metadata": {},
   "outputs": [],
   "source": [
    "class PasswordPolicy:\n",
    "    def __init__(self, policy_min: int, policy_max: int, policy_char: str, password: str):\n",
    "        self.policy_min = policy_min\n",
    "        self.policy_max = policy_max\n",
    "        self.policy_char = policy_char\n",
    "        self.password = password\n",
    "\n",
    "    @classmethod\n",
    "    def parse(cls, policy: str) -> 'PasswordPolicy':\n",
    "        policy_rule, password = policy.split(':')\n",
    "        policy_parts = policy_rule.split(' ')\n",
    "        policy_min, policy_max = policy_parts[0].split('-')\n",
    "        policy_char = policy_parts[1].strip()\n",
    "        \n",
    "        return PasswordPolicy(\n",
    "            int(policy_min),\n",
    "            int(policy_max),\n",
    "            policy_char,\n",
    "            password.strip(),\n",
    "        )"
   ]
  },
  {
   "cell_type": "code",
   "execution_count": null,
   "metadata": {},
   "outputs": [],
   "source": [
    "data = read_puzzle_data(2)\n",
    "policies = [PasswordPolicy.parse(line) for line in data]"
   ]
  },
  {
   "cell_type": "code",
   "execution_count": null,
   "metadata": {},
   "outputs": [],
   "source": [
    "def f_02_1_password_is_valid(policy: PasswordPolicy) -> bool:\n",
    "    matches = re.findall(policy.policy_char, policy.password)\n",
    "    \n",
    "    if policy.policy_min <= len(matches) <= policy.policy_max:\n",
    "        return True\n",
    "    \n",
    "    return False"
   ]
  },
  {
   "cell_type": "code",
   "execution_count": null,
   "metadata": {},
   "outputs": [],
   "source": [
    "valid_passwords = [policy.password for policy in policies if f_02_1_password_is_valid(policy)]\n",
    "\n",
    "print(f'Number of valid passwords: {len(valid_passwords)}')"
   ]
  },
  {
   "cell_type": "code",
   "execution_count": null,
   "metadata": {},
   "outputs": [],
   "source": [
    "def f_02_2_password_is_valid(policy: PasswordPolicy) -> bool:\n",
    "    first = policy.password[policy.policy_min - 1]\n",
    "    second = policy.password[policy.policy_max - 1]\n",
    "    \n",
    "    if (\n",
    "        (first == policy.policy_char and second != policy.policy_char) or\n",
    "        (first != policy.policy_char and second == policy.policy_char)\n",
    "    ):\n",
    "        return True\n",
    "    \n",
    "    return False"
   ]
  },
  {
   "cell_type": "code",
   "execution_count": null,
   "metadata": {},
   "outputs": [],
   "source": [
    "valid_passwords = [policy.password for policy in policies if f_02_2_password_is_valid(policy)]\n",
    "\n",
    "print(f'Number of valid passwords: {len(valid_passwords)}')"
   ]
  },
  {
   "cell_type": "markdown",
   "metadata": {},
   "source": [
    "## [Day 3](https://adventofcode.com/2020/day/3)"
   ]
  },
  {
   "cell_type": "code",
   "execution_count": null,
   "metadata": {},
   "outputs": [],
   "source": [
    "class Map:\n",
    "    OPEN = '.'\n",
    "    TREE = '#'\n",
    "    \n",
    "    def __init__(self, a_map: List[str]):\n",
    "        self.map = a_map\n",
    "        self.width = len(a_map[0])\n",
    "        self.height = len(a_map)\n",
    "    \n",
    "    def at(self, right: int, down: int) -> Optional[str]:\n",
    "        if down > self.height:\n",
    "            return None\n",
    "        \n",
    "        return self.map[down - 1][(right - 1) % self.width]"
   ]
  },
  {
   "cell_type": "code",
   "execution_count": null,
   "metadata": {},
   "outputs": [],
   "source": [
    "data = read_puzzle_data(3)\n",
    "a_map = Map(data)"
   ]
  },
  {
   "cell_type": "code",
   "execution_count": null,
   "metadata": {},
   "outputs": [],
   "source": [
    "def f_03_1_slope_squares(a_map: Map, right: int, down: int) -> List[str]:\n",
    "    r = right + 1\n",
    "    d = down + 1\n",
    "    squares = []\n",
    "    \n",
    "    while d <= a_map.height:\n",
    "        squares.append(a_map.at(r, d))\n",
    "        r += right\n",
    "        d += down\n",
    "        \n",
    "    return squares    "
   ]
  },
  {
   "cell_type": "code",
   "execution_count": null,
   "metadata": {},
   "outputs": [],
   "source": [
    "squares = f_03_1_slope_squares(a_map, 3, 1)\n",
    "trees = re.findall(Map.TREE, ''.join(squares))\n",
    "\n",
    "print(f'Number of trees: {len(trees)}')"
   ]
  },
  {
   "cell_type": "code",
   "execution_count": null,
   "metadata": {},
   "outputs": [],
   "source": [
    "def f_03_2_tree_counts_for_slopes(a_map: Map, slopes: List[Tuple[int, int]]) -> List[int]:\n",
    "    counts = []\n",
    "    \n",
    "    for slope in slopes:\n",
    "        squares = f_03_1_slope_squares(a_map, slope[0], slope[1])\n",
    "        trees = re.findall(Map.TREE, ''.join(squares))\n",
    "        \n",
    "        counts.append(len(trees))\n",
    "        \n",
    "    return counts"
   ]
  },
  {
   "cell_type": "code",
   "execution_count": null,
   "metadata": {},
   "outputs": [],
   "source": [
    "slopes = [\n",
    "    (1, 1),\n",
    "    (3, 1),\n",
    "    (5, 1),\n",
    "    (7, 1),\n",
    "    (1, 2),\n",
    "]\n",
    "\n",
    "tree_counts = f_03_2_tree_counts_for_slopes(a_map, slopes)\n",
    "print(f'Multiplied tree counts: {math.prod(tree_counts)}')"
   ]
  },
  {
   "cell_type": "markdown",
   "metadata": {},
   "source": [
    "## [Day 4](https://adventofcode.com/2020/day/4)"
   ]
  },
  {
   "cell_type": "code",
   "execution_count": null,
   "metadata": {},
   "outputs": [],
   "source": [
    "class Passport:\n",
    "    def __init__(\n",
    "        self,\n",
    "        byr: Optional[str] = None, # Birth Year\n",
    "        iyr: Optional[str] = None, # Issue Year\n",
    "        eyr: Optional[str] = None, # Expiration Year\n",
    "        hgt: Optional[str] = None, # Height\n",
    "        hcl: Optional[str] = None, # Hair Color\n",
    "        ecl: Optional[str] = None, # Eye Color\n",
    "        pid: Optional[str] = None, # Passport ID\n",
    "        cid: Optional[str] = None, # Country ID\n",
    "    ):\n",
    "        self.byr = byr\n",
    "        self.iyr = iyr\n",
    "        self.eyr = eyr\n",
    "        self.hgt = hgt\n",
    "        self.hcl = hcl\n",
    "        self.ecl = ecl\n",
    "        self.pid = pid\n",
    "        self.cid = cid\n",
    "\n",
    "    @classmethod\n",
    "    def parse(cls, lines: List[str]) -> 'Passport':\n",
    "        parts = [part for line in lines for part in line.split(' ')]\n",
    "        parts_dict = dict([part.split(':') for part in parts])\n",
    "\n",
    "        return Passport(\n",
    "            byr=parts_dict.get('byr'),\n",
    "            iyr=parts_dict.get('iyr'),\n",
    "            eyr=parts_dict.get('eyr'),\n",
    "            hgt=parts_dict.get('hgt'),\n",
    "            hcl=parts_dict.get('hcl'),\n",
    "            ecl=parts_dict.get('ecl'),\n",
    "            pid=parts_dict.get('pid'),\n",
    "            cid=parts_dict.get('cid'),\n",
    "        )\n",
    "    \n",
    "    @classmethod\n",
    "    def parse_list(cls, lines: List[str]) -> List['Passport']:\n",
    "        return [\n",
    "            Passport.parse(list(grp))\n",
    "            for key, grp in itertools.groupby(lines, lambda x: x == '')\n",
    "            if not key\n",
    "        ]\n",
    "    \n",
    "    def has_all_fields(self) -> bool:\n",
    "        return all([\n",
    "            self.byr,\n",
    "            self.iyr,\n",
    "            self.eyr,\n",
    "            self.hgt,\n",
    "            self.hcl,\n",
    "            self.ecl,\n",
    "            self.pid,\n",
    "        ])\n",
    "    \n",
    "    def has_valid_byr(self) -> bool:\n",
    "        return self.byr and (1920 <= int(self.byr) <= 2002)\n",
    "    \n",
    "    def has_valid_iyr(self) -> bool:\n",
    "        return self.iyr and (2010 <= int(self.iyr) <= 2020)\n",
    "    \n",
    "    def has_valid_eyr(self) -> bool:\n",
    "        return self.eyr and (2020 <= int(self.eyr) <= 2030)\n",
    "\n",
    "    def has_valid_hgt(self) -> bool:\n",
    "        if not self.hgt:\n",
    "            return False \n",
    "    \n",
    "        match = re.fullmatch(r'(\\d+)(cm|in)', self.hgt)\n",
    "        if not match or len(match.groups()) != 2:\n",
    "            return False \n",
    "        \n",
    "        hgt, units = match.groups()\n",
    "        \n",
    "        if units == 'cm':\n",
    "            return 150 <= int(hgt) <= 193\n",
    "        elif units == 'in':\n",
    "            return 59 <= int(hgt) <= 76\n",
    "        else:\n",
    "            return False\n",
    "    \n",
    "    def has_valid_hcl(self) -> bool:\n",
    "        if not self.hcl:\n",
    "            return False\n",
    "        match = re.fullmatch(r'#[0-9a-f]{6,6}', self.hcl)\n",
    "        return True if match else False\n",
    "    \n",
    "    def has_valid_ecl(self) -> bool:\n",
    "        if not self.ecl:\n",
    "            return False\n",
    "        return self.ecl in ['amb', 'blu', 'brn', 'gry', 'grn', 'hzl', 'oth']\n",
    "            \n",
    "    def has_valid_pid(self) -> bool:\n",
    "        if not self.pid:\n",
    "            return False \n",
    "        match = re.fullmatch(r'\\d{9,9}', self.pid)\n",
    "        return True if match else False\n",
    "    \n",
    "    def is_valid(self) -> bool:\n",
    "        return all([\n",
    "            self.has_valid_byr(),\n",
    "            self.has_valid_iyr(),\n",
    "            self.has_valid_eyr(),\n",
    "            self.has_valid_hgt(),\n",
    "            self.has_valid_hcl(),\n",
    "            self.has_valid_ecl(),\n",
    "            self.has_valid_pid(),\n",
    "        ])"
   ]
  },
  {
   "cell_type": "code",
   "execution_count": null,
   "metadata": {},
   "outputs": [],
   "source": [
    "data = read_puzzle_data(4)\n",
    "passports = Passport.parse_list(data)"
   ]
  },
  {
   "cell_type": "code",
   "execution_count": null,
   "metadata": {},
   "outputs": [],
   "source": [
    "valid_passports = [passport for passport in passports if passport.has_all_fields()]\n",
    "\n",
    "print(f'Valid passports: {len(valid_passports)}')"
   ]
  },
  {
   "cell_type": "code",
   "execution_count": null,
   "metadata": {},
   "outputs": [],
   "source": [
    "valid_passports = [passport for passport in passports if passport.is_valid()]\n",
    "\n",
    "print(f'Valid passports: {len(valid_passports)}')"
   ]
  },
  {
   "cell_type": "markdown",
   "metadata": {},
   "source": [
    "## [Day 5](https://adventofcode.com/2020/day/5)"
   ]
  },
  {
   "cell_type": "code",
   "execution_count": null,
   "metadata": {},
   "outputs": [],
   "source": [
    "class BoardingPass:\n",
    "    def __init__(self, code: str):\n",
    "        self.code = code\n",
    "        \n",
    "    def row(self) -> int:\n",
    "        row_str = self.code[:7]\n",
    "        binary_str = row_str.replace('F', '0').replace('B', '1')\n",
    "        return int(binary_str, 2)\n",
    "    \n",
    "    def column(self) -> int:\n",
    "        column_str = self.code[7:]\n",
    "        binary_str = column_str.replace('L', '0').replace('R', '1')\n",
    "        return int(binary_str, 2)\n",
    "    \n",
    "    def seat_id(self) -> int:\n",
    "        return 8 * self.row() + self.column()"
   ]
  },
  {
   "cell_type": "code",
   "execution_count": null,
   "metadata": {},
   "outputs": [],
   "source": [
    "test_data = [\n",
    "    'FBFBBFFRLR',\n",
    "    'BFFFBBFRRR',\n",
    "    'FFFBBBFRRR',\n",
    "    'BBFFBBFRLL',\n",
    "]\n",
    "test_boarding_passes = [BoardingPass(test_datum) for test_datum in test_data]\n",
    "\n",
    "assert test_boarding_passes[0].row() == 44\n",
    "assert test_boarding_passes[0].column() == 5\n",
    "assert test_boarding_passes[0].seat_id() == 357\n",
    "\n",
    "assert test_boarding_passes[1].row() == 70\n",
    "assert test_boarding_passes[1].column() == 7\n",
    "assert test_boarding_passes[1].seat_id() == 567\n",
    "\n",
    "assert test_boarding_passes[2].row() == 14\n",
    "assert test_boarding_passes[2].column() == 7\n",
    "assert test_boarding_passes[2].seat_id() == 119\n",
    "\n",
    "assert test_boarding_passes[3].row() == 102\n",
    "assert test_boarding_passes[3].column() == 4\n",
    "assert test_boarding_passes[3].seat_id() == 820"
   ]
  },
  {
   "cell_type": "code",
   "execution_count": null,
   "metadata": {},
   "outputs": [],
   "source": [
    "data = read_puzzle_data(5)\n",
    "boarding_passes = [BoardingPass(line) for line in data]"
   ]
  },
  {
   "cell_type": "code",
   "execution_count": null,
   "metadata": {},
   "outputs": [],
   "source": [
    "seat_ids = [boarding_pass.seat_id() for boarding_pass in boarding_passes]\n",
    "sorted_seat_ids = sorted(seat_ids)\n",
    "\n",
    "print(f'Highest seat ID: {sorted_seat_ids[-1]}')"
   ]
  },
  {
   "cell_type": "code",
   "execution_count": null,
   "metadata": {},
   "outputs": [],
   "source": [
    "def f_05_2_find_missing_seat_id(sorted_seat_ids: List[int]) -> int:\n",
    "    n = len(sorted_seat_ids)\n",
    "    \n",
    "    for i in range(n - 1):\n",
    "        if (sorted_seat_ids[i] + 1) != sorted_seat_ids[i + 1]:\n",
    "            return sorted_seat_ids[i] + 1\n",
    "        \n",
    "    return None"
   ]
  },
  {
   "cell_type": "code",
   "execution_count": null,
   "metadata": {},
   "outputs": [],
   "source": [
    "missing_seat_id = f_05_2_find_missing_seat_id(sorted_seat_ids)\n",
    "\n",
    "print(f'Missing seat ID: {missing_seat_id}')"
   ]
  },
  {
   "cell_type": "markdown",
   "metadata": {},
   "source": [
    "## [Day 6](https://adventofcode.com/2020/day/6)"
   ]
  },
  {
   "cell_type": "code",
   "execution_count": null,
   "metadata": {},
   "outputs": [],
   "source": [
    "class CustomsForm:\n",
    "    def __init__(self, answers: List[str]):\n",
    "        self.answers = answers\n",
    "    \n",
    "    @classmethod\n",
    "    def parse_list(cls, lines: List[str]) -> List['CustomsForm']:\n",
    "        return [\n",
    "            CustomsForm(list(grp))\n",
    "            for key, grp in itertools.groupby(lines, lambda x: x == '')\n",
    "            if not key\n",
    "        ]\n",
    "    \n",
    "    def count_1(self) -> int:\n",
    "        # part 1\n",
    "        joined_answers = ''.join(self.answers).strip()\n",
    "        return len(set(joined_answers))\n",
    "    \n",
    "    def count_2(self) -> int:\n",
    "        # part 2\n",
    "        answer_sets = [set(answer) for answer in self.answers]\n",
    "        return len(set.intersection(*answer_sets))"
   ]
  },
  {
   "cell_type": "code",
   "execution_count": null,
   "metadata": {},
   "outputs": [],
   "source": [
    "data = read_puzzle_data(6)\n",
    "customs_forms = CustomsForm.parse_list(data)"
   ]
  },
  {
   "cell_type": "code",
   "execution_count": null,
   "metadata": {},
   "outputs": [],
   "source": [
    "customs_forms_counts = [customs_form.count_1() for customs_form in customs_forms]\n",
    "\n",
    "print(f'Sum: {sum(customs_forms_counts)}')"
   ]
  },
  {
   "cell_type": "code",
   "execution_count": null,
   "metadata": {},
   "outputs": [],
   "source": [
    "customs_forms_counts = [customs_form.count_2() for customs_form in customs_forms]\n",
    "\n",
    "print(f'Sum: {sum(customs_forms_counts)}')"
   ]
  },
  {
   "cell_type": "markdown",
   "metadata": {},
   "source": [
    "## [Day 7](https://adventofcode.com/2020/day/7)"
   ]
  },
  {
   "cell_type": "code",
   "execution_count": null,
   "metadata": {},
   "outputs": [],
   "source": [
    "class LuggageGraphOld:\n",
    "    CONTAINMENT_STR: str = ' bags contain '\n",
    "    CONTAINMENT_STR_LEN: int = 14\n",
    "    CONTENTS_REGEX: str = r'(\\d+) ([ a-z]+) bags?[,.]'\n",
    "\n",
    "    def __init__(self, graph: Dict[str, List[str]]):\n",
    "        # key is color of contained bag\n",
    "        # value is list of possible outer bags\n",
    "        self.graph = graph\n",
    "        \n",
    "    @classmethod\n",
    "    def build(cls, lines: List[str]) -> 'LuggageGraph':\n",
    "        graph = {}\n",
    "        \n",
    "        for line in lines:\n",
    "            color, contents = cls.parse_line(line)\n",
    "            for luggage in contents:\n",
    "                if luggage in graph:\n",
    "                    graph[luggage].append(color)\n",
    "                else:\n",
    "                    graph[luggage] = [color]\n",
    "\n",
    "        return LuggageGraphOld(graph)\n",
    "        \n",
    "    @classmethod\n",
    "    def parse_line(cls, line: str) -> Tuple[str, List[str]]:\n",
    "        index = line.find(cls.CONTAINMENT_STR)\n",
    "        color = line[:index]\n",
    "\n",
    "        contents_str = line[(index + cls.CONTAINMENT_STR_LEN):]\n",
    "        contents = [m.group(2) for m in re.finditer(cls.CONTENTS_REGEX, contents_str)]\n",
    "        \n",
    "        return (color, contents)\n",
    "    \n",
    "    def set_of_outer_bags(self, color: str) -> Set[str]:\n",
    "        if color not in self.graph:\n",
    "            return set([])\n",
    "\n",
    "        outer_bags = self.graph[color]\n",
    "        the_set = set(outer_bags)\n",
    "        for outer_bag_color in outer_bags:\n",
    "            the_set = the_set.union(self.set_of_outer_bags(outer_bag_color))\n",
    "        \n",
    "        return the_set"
   ]
  },
  {
   "cell_type": "code",
   "execution_count": null,
   "metadata": {},
   "outputs": [],
   "source": [
    "test_data = [\n",
    "    'light red bags contain 1 bright white bag, 2 muted yellow bags.',\n",
    "    'dark orange bags contain 3 bright white bags, 4 muted yellow bags.',\n",
    "    'bright white bags contain 1 shiny gold bag.',\n",
    "    'muted yellow bags contain 2 shiny gold bags, 9 faded blue bags.',\n",
    "    'shiny gold bags contain 1 dark olive bag, 2 vibrant plum bags.',\n",
    "    'dark olive bags contain 3 faded blue bags, 4 dotted black bags.',\n",
    "    'vibrant plum bags contain 5 faded blue bags, 6 dotted black bags.',\n",
    "    'faded blue bags contain no other bags.',\n",
    "    'dotted black bags contain no other bags.',\n",
    "]\n",
    "\n",
    "test_luggage_graph = LuggageGraphOld.build(test_data)\n",
    "assert len(test_luggage_graph.set_of_outer_bags('shiny gold')) == 4"
   ]
  },
  {
   "cell_type": "code",
   "execution_count": null,
   "metadata": {},
   "outputs": [],
   "source": [
    "data = read_puzzle_data(7)\n",
    "luggage_graph = LuggageGraphOld.build(data)"
   ]
  },
  {
   "cell_type": "code",
   "execution_count": null,
   "metadata": {},
   "outputs": [],
   "source": [
    "set_of_outer_bags = luggage_graph.set_of_outer_bags('shiny gold')\n",
    "\n",
    "print(f'Number of outer bags: {len(set_of_outer_bags)}')"
   ]
  },
  {
   "cell_type": "code",
   "execution_count": null,
   "metadata": {},
   "outputs": [],
   "source": [
    "class LuggageContents:\n",
    "    def __init__(self, color: str, amount: int):\n",
    "        self.color = color\n",
    "        self.amount = amount\n",
    "\n",
    "\n",
    "class LuggageRules:\n",
    "    COLOR_REGEX: str = r'^([ a-z]+) bags contain '\n",
    "    CONTENTS_REGEX: str = r'(\\d+) ([ a-z]+) bags?[,.]$'\n",
    "\n",
    "    def __init__(self, rules: Dict[str, List[LuggageContents]]):\n",
    "        self.rules = rules\n",
    "        \n",
    "    @classmethod\n",
    "    def build(cls, lines: List[str]) -> 'LuggageRules':\n",
    "        rules = {}\n",
    "        \n",
    "        for line in lines:\n",
    "            color, contents = cls.parse_line(line)\n",
    "            rules[color] = contents\n",
    "            \n",
    "        return LuggageRules(rules)\n",
    "\n",
    "    @classmethod\n",
    "    def parse_line(cls, line: str) -> Tuple[str, LuggageContents]:\n",
    "        color = re.match(cls.COLOR_REGEX, line).group(1)\n",
    "        contents = [\n",
    "            LuggageContents(m.group(2), int(m.group(1)))\n",
    "            for m in re.finditer(cls.CONTENTS_REGEX, line)\n",
    "            if m\n",
    "        ]\n",
    "        \n",
    "        return (color, contents)"
   ]
  },
  {
   "cell_type": "code",
   "execution_count": null,
   "metadata": {},
   "outputs": [],
   "source": [
    "test_data = [\n",
    "    'light red bags contain 1 bright white bag, 2 muted yellow bags.',\n",
    "    'dark orange bags contain 3 bright white bags, 4 muted yellow bags.',\n",
    "    'bright white bags contain 1 shiny gold bag.',\n",
    "    'muted yellow bags contain 2 shiny gold bags, 9 faded blue bags.',\n",
    "    'shiny gold bags contain 1 dark olive bag, 2 vibrant plum bags.',\n",
    "    'dark olive bags contain 3 faded blue bags, 4 dotted black bags.',\n",
    "    'vibrant plum bags contain 5 faded blue bags, 6 dotted black bags.',\n",
    "    'faded blue bags contain no other bags.',\n",
    "    'dotted black bags contain no other bags.',\n",
    "]\n",
    "\n",
    "test_luggage_rules = LuggageRules.build(test_data)"
   ]
  },
  {
   "cell_type": "code",
   "execution_count": null,
   "metadata": {},
   "outputs": [],
   "source": [
    "test_luggage_rules.rules['shiny gold'][0].color"
   ]
  }
 ],
 "metadata": {
  "kernelspec": {
   "display_name": "Python 3 (ipykernel)",
   "language": "python",
   "name": "python3"
  },
  "language_info": {
   "codemirror_mode": {
    "name": "ipython",
    "version": 3
   },
   "file_extension": ".py",
   "mimetype": "text/x-python",
   "name": "python",
   "nbconvert_exporter": "python",
   "pygments_lexer": "ipython3",
   "version": "3.11.0"
  }
 },
 "nbformat": 4,
 "nbformat_minor": 4
}
